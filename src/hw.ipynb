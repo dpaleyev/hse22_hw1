{
 "cells": [
  {
   "cell_type": "code",
   "execution_count": 1,
   "metadata": {},
   "outputs": [],
   "source": [
    "def get_info(f, text):\n",
    "    print(f'Анализ {text}:\\n')\n",
    "    lengths = []\n",
    "    total_length = 0\n",
    "    total_num = 0\n",
    "    max_length = 0\n",
    "    length = 0\n",
    "    max_sequence = ''\n",
    "    cur_sequence = ''\n",
    "    for line in f:\n",
    "        if (line[0] == '>'):\n",
    "            if total_num != 0:\n",
    "                lengths.append(length)\n",
    "            total_num += 1\n",
    "            if length >= max_length:\n",
    "                max_length = length\n",
    "                max_sequence = cur_sequence\n",
    "            cur_sequence = ''\n",
    "            length = 0\n",
    "        else:\n",
    "            cur_sequence += line.strip()\n",
    "            length += len(line.strip())\n",
    "            total_length += len(line.strip())\n",
    "   \n",
    "    print(f'Общее количество: {total_num},\\nОбщая длина: {total_length},\\nДлина самого длинного: {max_length},')\n",
    "    res = 0\n",
    "    lengths.sort(reverse = True) \n",
    "    for i in lengths:\n",
    "        res += i\n",
    "        if res >= total_length / 2:\n",
    "            print(f'N50: {i}\\n')\n",
    "            return max_sequence\n",
    "    return max_sequence\n",
    "\n",
    "def get_max_seq(f, text):\n",
    "    lengths = []\n",
    "    total_length = 0\n",
    "    total_num = 0\n",
    "    max_length = 0\n",
    "    length = 0\n",
    "    max_sequence = ''\n",
    "    cur_sequence = ''\n",
    "    for line in f:\n",
    "        if (line[0] == '>'):\n",
    "            if total_num != 0:\n",
    "                lengths.append(length)\n",
    "            total_num += 1\n",
    "            if length >= max_length:\n",
    "                max_length = length\n",
    "                max_sequence = cur_sequence\n",
    "            cur_sequence = ''\n",
    "            length = 0\n",
    "        else:\n",
    "            cur_sequence += line.strip()\n",
    "            length += len(line.strip())\n",
    "            total_length += len(line.strip())\n",
    "    return max_sequence"
   ]
  },
  {
   "cell_type": "code",
   "execution_count": 4,
   "metadata": {},
   "outputs": [
    {
     "name": "stdout",
     "output_type": "stream",
     "text": [
      "Анализ контигов:\n",
      "\n",
      "Общее количество: 614,\n",
      "Общая длина: 3925697,\n",
      "Длина самого длинного: 179304,\n",
      "N50: 47611\n",
      "\n"
     ]
    }
   ],
   "source": [
    "file = open('Poil_contig.fa', 'r')\n",
    "tmp = get_info(file, 'контигов')"
   ]
  },
  {
   "cell_type": "code",
   "execution_count": 5,
   "metadata": {},
   "outputs": [
    {
     "name": "stdout",
     "output_type": "stream",
     "text": [
      "Анализ скаффолдов:\n",
      "\n",
      "Общее количество: 70,\n",
      "Общая длина: 3875879,\n",
      "Длина самого длинного: 3834187,\n",
      "N50: 3834187\n",
      "\n",
      "Количество гэпов:  60\n",
      "Общая длина гэпов: 6057\n"
     ]
    }
   ],
   "source": [
    "import re\n",
    "\n",
    "file = open('Poil_scaffold.fa', 'r')\n",
    "max_scaffold = get_info(file, 'скаффолдов')\n",
    "print('Количество гэпов: ', re.sub(r'N{2,}', 'N', max_scaffold).count(\"N\"))\n",
    "print(f'Общая длина гэпов: {max_scaffold.count(\"N\")}')"
   ]
  },
  {
   "cell_type": "code",
   "execution_count": 6,
   "metadata": {},
   "outputs": [
    {
     "name": "stdout",
     "output_type": "stream",
     "text": [
      "Количество гэпов:  8\n",
      "Общая длина гэпов: 1908\n"
     ]
    }
   ],
   "source": [
    "file = open('Poil_gapClosed.fa', 'r')\n",
    "max_scaff = get_max_seq(file, 'скаффолдов')\n",
    "print('Количество гэпов: ', re.sub(r'N{2,}', 'N', max_scaff).count(\"N\"))\n",
    "print(f'Общая длина гэпов: {max_scaff.count(\"N\")}')"
   ]
  }
 ],
 "metadata": {
  "kernelspec": {
   "display_name": "Python 3.10.4 64-bit",
   "language": "python",
   "name": "python3"
  },
  "language_info": {
   "codemirror_mode": {
    "name": "ipython",
    "version": 3
   },
   "file_extension": ".py",
   "mimetype": "text/x-python",
   "name": "python",
   "nbconvert_exporter": "python",
   "pygments_lexer": "ipython3",
   "version": "3.10.4"
  },
  "orig_nbformat": 4,
  "vscode": {
   "interpreter": {
    "hash": "31f2aee4e71d21fbe5cf8b01ff0e069b9275f58929596ceb00d14d90e3e16cd6"
   }
  }
 },
 "nbformat": 4,
 "nbformat_minor": 2
}
